{
 "cells": [
  {
   "cell_type": "code",
   "execution_count": 1,
   "id": "2e7f5f29-889d-467e-81d3-c04fa2d8046c",
   "metadata": {},
   "outputs": [
    {
     "name": "stderr",
     "output_type": "stream",
     "text": [
      "req         WARNING \tDEFAULT CACHE ENABLED! (734.18 MB) C:\\Users\\kumar\\AppData\\Local\\Temp\\fastf1\n",
      "core           INFO \tLoading data for São Paulo Grand Prix - Race [v3.4.3]\n",
      "req            INFO \tUsing cached data for session_info\n",
      "req            INFO \tUsing cached data for driver_info\n",
      "req            INFO \tUsing cached data for session_status_data\n",
      "req            INFO \tUsing cached data for lap_count\n",
      "req            INFO \tUsing cached data for track_status_data\n",
      "req            INFO \tUsing cached data for _extended_timing_data\n",
      "req            INFO \tUsing cached data for timing_app_data\n",
      "core           INFO \tProcessing timing data...\n",
      "core        WARNING \tNo lap data for driver 23\n",
      "core        WARNING \tFailed to perform lap accuracy check - all laps marked as inaccurate (driver 23)\n",
      "req            INFO \tUsing cached data for car_data\n",
      "req            INFO \tUsing cached data for position_data\n",
      "req            INFO \tUsing cached data for weather_data\n",
      "req            INFO \tUsing cached data for race_control_messages\n",
      "core           INFO \tFinished loading data for 20 drivers: ['1', '31', '10', '63', '16', '4', '22', '81', '30', '44', '11', '50', '77', '14', '24', '55', '43', '23', '18', '27']\n"
     ]
    },
    {
     "name": "stdout",
     "output_type": "stream",
     "text": [
      "              Driver             Team  Position  Grid  Points\n",
      "1     Max Verstappen  Red Bull Racing       1.0  17.0    26.0\n",
      "31      Esteban Ocon           Alpine       2.0   4.0    18.0\n",
      "10      Pierre Gasly           Alpine       3.0  13.0    15.0\n",
      "63    George Russell         Mercedes       4.0   2.0    12.0\n",
      "16   Charles Leclerc          Ferrari       5.0   6.0    10.0\n",
      "4       Lando Norris          McLaren       6.0   1.0     8.0\n",
      "22      Yuki Tsunoda               RB       7.0   3.0     6.0\n",
      "81     Oscar Piastri          McLaren       8.0   8.0     4.0\n",
      "30       Liam Lawson               RB       9.0   5.0     2.0\n",
      "44    Lewis Hamilton         Mercedes      10.0  14.0     1.0\n",
      "11      Sergio Perez  Red Bull Racing      11.0  12.0     0.0\n",
      "50    Oliver Bearman     Haas F1 Team      12.0  15.0     0.0\n",
      "77   Valtteri Bottas      Kick Sauber      13.0  11.0     0.0\n",
      "14   Fernando Alonso     Aston Martin      14.0   9.0     0.0\n",
      "24       Guanyu Zhou      Kick Sauber      15.0  19.0     0.0\n",
      "55      Carlos Sainz          Ferrari      16.0   0.0     0.0\n",
      "43  Franco Colapinto         Williams      17.0  16.0     0.0\n",
      "23   Alexander Albon         Williams      18.0   7.0     0.0\n",
      "18      Lance Stroll     Aston Martin      19.0  10.0     0.0\n",
      "27   Nico Hulkenberg     Haas F1 Team      20.0  17.0     0.0\n"
     ]
    }
   ],
   "source": [
    "import fastf1\n",
    "import pandas as pd\n",
    "\n",
    "# Load the 2024 Brazilian Grand Prix Race session\n",
    "race = fastf1.get_session(2024, 'Brazil', 'R')\n",
    "\n",
    "# Load the data\n",
    "race.load()\n",
    "\n",
    "# Get the race results\n",
    "results = race.results\n",
    "\n",
    "# Display the columns to inspect the available data (already done, so no need to repeat this)\n",
    "# print(results.columns)\n",
    "\n",
    "# Create a table with relevant race result information\n",
    "race_results = results[['FullName', 'TeamName', 'Position', 'GridPosition', 'Points']]\n",
    "\n",
    "# Rename columns for clarity\n",
    "race_results.columns = ['Driver', 'Team', 'Position', 'Grid', 'Points']\n",
    "\n",
    "# Sort the results by finishing position\n",
    "race_results = race_results.sort_values(by='Position')\n",
    "\n",
    "# Display the race results\n",
    "print(race_results)\n"
   ]
  },
  {
   "cell_type": "code",
   "execution_count": null,
   "id": "848c0240-8990-4652-8772-2766c3c4749d",
   "metadata": {},
   "outputs": [],
   "source": []
  },
  {
   "cell_type": "code",
   "execution_count": null,
   "id": "dbd996ee-3da7-4a4b-a826-7391f3211e88",
   "metadata": {},
   "outputs": [],
   "source": []
  }
 ],
 "metadata": {
  "kernelspec": {
   "display_name": "Python 3 (ipykernel)",
   "language": "python",
   "name": "python3"
  },
  "language_info": {
   "codemirror_mode": {
    "name": "ipython",
    "version": 3
   },
   "file_extension": ".py",
   "mimetype": "text/x-python",
   "name": "python",
   "nbconvert_exporter": "python",
   "pygments_lexer": "ipython3",
   "version": "3.13.0"
  }
 },
 "nbformat": 4,
 "nbformat_minor": 5
}
